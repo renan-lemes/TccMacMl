{
 "cells": [
  {
   "cell_type": "code",
   "execution_count": 1,
   "metadata": {},
   "outputs": [],
   "source": [
    "import pandas as pd\n",
    "import os\n",
    "\n",
    "# G:\\Meu Drive\\Renan-Lemes-TCC\\dataset\\Potato\\train\\Potato Early blight\n",
    "# G:\\Meu Drive\\Renan-Lemes-TCC\\dataset\\Potato\\train\\Potato Healthy\n",
    "# G:\\Meu Drive\\Renan-Lemes-TCC\\dataset\\Potato\\train\\Potato Late blight"
   ]
  },
  {
   "cell_type": "code",
   "execution_count": null,
   "metadata": {},
   "outputs": [],
   "source": [
    "print(2+1)"
   ]
  }
 ],
 "metadata": {
  "kernelspec": {
   "display_name": "Python 3.9.12 ('base')",
   "language": "python",
   "name": "python3"
  },
  "language_info": {
   "codemirror_mode": {
    "name": "ipython",
    "version": 3
   },
   "file_extension": ".py",
   "mimetype": "text/x-python",
   "name": "python",
   "nbconvert_exporter": "python",
   "pygments_lexer": "ipython3",
   "version": "3.9.12"
  },
  "orig_nbformat": 4,
  "vscode": {
   "interpreter": {
    "hash": "df5f555708faac095fd61a93badfd9c2b6417959927c12eebb577d7e9a5f2ecf"
   }
  }
 },
 "nbformat": 4,
 "nbformat_minor": 2
}
