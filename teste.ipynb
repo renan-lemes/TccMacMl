{
 "cells": [
  {
   "attachments": {},
   "cell_type": "markdown",
   "metadata": {},
   "source": [
    "### blibliotecas iniciais "
   ]
  },
  {
   "cell_type": "code",
   "execution_count": 12,
   "metadata": {},
   "outputs": [],
   "source": [
    "import pandas as pd\n",
    "import numpy as np\n",
    "import matplotlib.pyplot as plt\n",
    "import warnings\n",
    "import os\n",
    "warnings.filterwarnings(\"ignore\")\n"
   ]
  },
  {
   "attachments": {},
   "cell_type": "markdown",
   "metadata": {},
   "source": [
    "### Blibliotecas para tratamento de imagem"
   ]
  },
  {
   "cell_type": "code",
   "execution_count": 13,
   "metadata": {},
   "outputs": [],
   "source": [
    "from skimage.color import rgb2gray\n",
    "from skimage.filters import try_all_threshold, threshold_otsu, threshold_local, gaussian\n",
    "from skimage.transform import rotate, rescale\n",
    "from skimage import morphology\n",
    "import cv2"
   ]
  },
  {
   "cell_type": "code",
   "execution_count": 14,
   "metadata": {},
   "outputs": [],
   "source": [
    "# G:\\Meu Drive\\Renan-Lemes-TCC\\dataset\\Potato\\train\\Potato Early blight\n",
    "# G:\\Meu Drive\\Renan-Lemes-TCC\\dataset\\Potato\\train\\Potato Healthy\n",
    "# G:\\Meu Drive\\Renan-Lemes-TCC\\dataset\\Potato\\train\\Potato Late blight"
   ]
  },
  {
   "cell_type": "code",
   "execution_count": 18,
   "metadata": {},
   "outputs": [],
   "source": [
    "trainEarly = os.listdir('G:\\\\Meu Drive\\Renan-Lemes-TCC\\\\dataset\\\\Potato\\\\train\\\\Potato Early blight')\n",
    "trainHeal = os.listdir('G:\\\\Meu Drive\\\\Renan-Lemes-TCC\\\\dataset\\\\Potato\\\\train\\\\Potato Healthy')\n",
    "trainLate = os.listdir('G:\\\\Meu Drive\\\\Renan-Lemes-TCC\\\\dataset\\\\Potato\\\\train\\\\Potato Late blight')\n"
   ]
  },
  {
   "cell_type": "code",
   "execution_count": 20,
   "metadata": {},
   "outputs": [
    {
     "name": "stdout",
     "output_type": "stream",
     "text": [
      "-----train-----\n",
      "2432\n",
      "3532\n",
      "3521\n"
     ]
    }
   ],
   "source": [
    "print('-----train-----')\n",
    "print(len(trainHeal))\n",
    "print(len(trainEarly))\n",
    "print(len(trainLate))"
   ]
  },
  {
   "attachments": {},
   "cell_type": "markdown",
   "metadata": {},
   "source": [
    "### Ai decidi Pegar apenas  as 2432 das saudaveis, e metade das Late e metade Early ou seja 1216 cada."
   ]
  },
  {
   "cell_type": "code",
   "execution_count": 29,
   "metadata": {},
   "outputs": [
    {
     "name": "stdout",
     "output_type": "stream",
     "text": [
      "1216\n"
     ]
    }
   ],
   "source": [
    "print(round(len(trainHeal)/2 ))"
   ]
  },
  {
   "cell_type": "code",
   "execution_count": null,
   "metadata": {},
   "outputs": [],
   "source": []
  }
 ],
 "metadata": {
  "kernelspec": {
   "display_name": "Python 3.9.12 ('base')",
   "language": "python",
   "name": "python3"
  },
  "language_info": {
   "codemirror_mode": {
    "name": "ipython",
    "version": 3
   },
   "file_extension": ".py",
   "mimetype": "text/x-python",
   "name": "python",
   "nbconvert_exporter": "python",
   "pygments_lexer": "ipython3",
   "version": "3.9.12"
  },
  "orig_nbformat": 4,
  "vscode": {
   "interpreter": {
    "hash": "df5f555708faac095fd61a93badfd9c2b6417959927c12eebb577d7e9a5f2ecf"
   }
  }
 },
 "nbformat": 4,
 "nbformat_minor": 2
}
