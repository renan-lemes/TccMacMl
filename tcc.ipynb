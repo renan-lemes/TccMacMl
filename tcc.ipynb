{
 "cells": [
  {
   "attachments": {},
   "cell_type": "markdown",
   "metadata": {},
   "source": [
    "### blibliotecas iniciais "
   ]
  },
  {
   "cell_type": "code",
   "execution_count": 1,
   "metadata": {},
   "outputs": [],
   "source": [
    "import pandas as pd\n",
    "import numpy as np\n",
    "import matplotlib.pyplot as plt\n",
    "import warnings\n",
    "import os\n",
    "warnings.filterwarnings(\"ignore\")\n"
   ]
  },
  {
   "attachments": {},
   "cell_type": "markdown",
   "metadata": {},
   "source": [
    "### Blibliotecas para tratamento de imagem"
   ]
  },
  {
   "cell_type": "code",
   "execution_count": 2,
   "metadata": {},
   "outputs": [],
   "source": [
    "from skimage.color import rgb2gray\n",
    "from skimage.filters import try_all_threshold, threshold_otsu, threshold_local, gaussian\n",
    "from skimage.transform import rotate, rescale\n",
    "from skimage import morphology\n",
    "import cv2"
   ]
  },
  {
   "cell_type": "code",
   "execution_count": 3,
   "metadata": {},
   "outputs": [],
   "source": [
    "# G:\\Meu Drive\\Renan-Lemes-TCC\\dataset\\Potato\\train\\Potato Early blight\n",
    "# G:\\Meu Drive\\Renan-Lemes-TCC\\dataset\\Potato\\train\\Potato Healthy\n",
    "# G:\\Meu Drive\\Renan-Lemes-TCC\\dataset\\Potato\\train\\Potato Late blight"
   ]
  },
  {
   "cell_type": "code",
   "execution_count": 4,
   "metadata": {},
   "outputs": [],
   "source": [
    "trainEarly = os.listdir('G:\\\\Meu Drive\\Renan-Lemes-TCC\\\\dataset\\\\Potato\\\\train\\\\Potato Early blight')\n",
    "trainHeal = os.listdir('G:\\\\Meu Drive\\\\Renan-Lemes-TCC\\\\dataset\\\\Potato\\\\train\\\\Potato Healthy')\n",
    "trainLate = os.listdir('G:\\\\Meu Drive\\\\Renan-Lemes-TCC\\\\dataset\\\\Potato\\\\train\\\\Potato Late blight')\n"
   ]
  },
  {
   "cell_type": "code",
   "execution_count": 5,
   "metadata": {},
   "outputs": [
    {
     "name": "stdout",
     "output_type": "stream",
     "text": [
      "-----train-----\n",
      "2432\n",
      "3532\n",
      "3521\n"
     ]
    }
   ],
   "source": [
    "print('-----train-----')\n",
    "print(len(trainHeal))\n",
    "print(len(trainEarly))\n",
    "print(len(trainLate))"
   ]
  },
  {
   "attachments": {},
   "cell_type": "markdown",
   "metadata": {},
   "source": [
    "### Ai decidi Pegar apenas  as 2432 das saudaveis, e metade das Late e metade Early ou seja 1216 cada."
   ]
  },
  {
   "cell_type": "code",
   "execution_count": 6,
   "metadata": {},
   "outputs": [
    {
     "name": "stdout",
     "output_type": "stream",
     "text": [
      "1216\n"
     ]
    }
   ],
   "source": [
    "print(round(len(trainHeal)/2 ))"
   ]
  },
  {
   "cell_type": "code",
   "execution_count": 7,
   "metadata": {},
   "outputs": [],
   "source": [
    "path1 = 'G:\\\\Meu Drive\\Renan-Lemes-TCC\\\\dataset\\\\Potato\\\\train\\\\Potato Early blight' ## não saudavel então pego só 1216\n",
    "path2 = 'G:\\\\Meu Drive\\\\Renan-Lemes-TCC\\\\dataset\\\\Potato\\\\train\\\\Potato Healthy' ## saudavel\n",
    "path3 = 'G:\\\\Meu Drive\\\\Renan-Lemes-TCC\\\\dataset\\\\Potato\\\\train\\\\Potato Late blight' ## não saudavelentão pego só 1216"
   ]
  },
  {
   "cell_type": "code",
   "execution_count": 9,
   "metadata": {},
   "outputs": [
    {
     "ename": "TypeError",
     "evalue": "unsupported operand type(s) for /: 'list' and 'int'",
     "output_type": "error",
     "traceback": [
      "\u001b[1;31m---------------------------------------------------------------------------\u001b[0m",
      "\u001b[1;31mTypeError\u001b[0m                                 Traceback (most recent call last)",
      "\u001b[1;32mc:\\Users\\RenanLemes\\Desktop\\Projeto_\\TccRenanLemes\\tcc.ipynb Célula: 11\u001b[0m in \u001b[0;36m<cell line: 1>\u001b[1;34m()\u001b[0m\n\u001b[1;32m----> <a href='vscode-notebook-cell:/c%3A/Users/RenanLemes/Desktop/Projeto_/TccRenanLemes/tcc.ipynb#X13sZmlsZQ%3D%3D?line=0'>1</a>\u001b[0m \u001b[39mfor\u001b[39;00m i \u001b[39min\u001b[39;00m \u001b[39mrange\u001b[39m(\u001b[39mround\u001b[39m(\u001b[39mlen\u001b[39m(trainHeal\u001b[39m/\u001b[39;49m\u001b[39m2\u001b[39;49m))):\n\u001b[0;32m      <a href='vscode-notebook-cell:/c%3A/Users/RenanLemes/Desktop/Projeto_/TccRenanLemes/tcc.ipynb#X13sZmlsZQ%3D%3D?line=1'>2</a>\u001b[0m     \u001b[39mprint\u001b[39m(trainHeal[i])\n",
      "\u001b[1;31mTypeError\u001b[0m: unsupported operand type(s) for /: 'list' and 'int'"
     ]
    }
   ],
   "source": [
    "for i in range(round(len(trainHeal/2))):\n",
    "    print(trainHeal[i])"
   ]
  },
  {
   "cell_type": "code",
   "execution_count": null,
   "metadata": {},
   "outputs": [],
   "source": []
  },
  {
   "cell_type": "code",
   "execution_count": null,
   "metadata": {},
   "outputs": [],
   "source": []
  },
  {
   "attachments": {},
   "cell_type": "markdown",
   "metadata": {},
   "source": [
    "# Notei que já separou as imagens e quantificou. Porem, ainda para tratar as imagens deixa tudo na mesma pasta inicialmente, somente separando as classes, inclusive porque voce não finalizou os experimentos com a extração de características.\n",
    "\n",
    "# Agora as etapas de execução:\n",
    "- Inserir aqui experimentos separando de cada canal de cor. Exemplo exibir a imagem do H, do S e do L e depois imagem do H, do S e do V. Não precisa ser de cada pasta de treino e validação, como voce vai juntar tudo inicialmente, faz 1 experimento de cada classe so. \n",
    "\n",
    "- Verificar o canal que mais tem contorno, sem tantas misturas de cores. \n",
    "- Realizar a equalização do histograma nesse canal separado\n",
    "- juntar a imagem novamente para formar nova imagem e retornar para RGB. \n",
    "\n",
    "- Após isso, voce irá iniciar a extração de características. \n",
    "- indico usar inicialmente como extrator de características o SIFT. \n",
    "https://www.dominodatalab.com/blog/feature-extraction-and-image-classification-using-deep-neural-networks \n",
    "\n",
    "Somente após isso, siga para os experimentos com aprendizagem de máquina. \n",
    "Finalize esses passos acima e me avise para iniciarmos os treinamentos."
   ]
  },
  {
   "cell_type": "markdown",
   "metadata": {},
   "source": []
  }
 ],
 "metadata": {
  "kernelspec": {
   "display_name": "Python 3.9.12 ('base')",
   "language": "python",
   "name": "python3"
  },
  "language_info": {
   "codemirror_mode": {
    "name": "ipython",
    "version": 3
   },
   "file_extension": ".py",
   "mimetype": "text/x-python",
   "name": "python",
   "nbconvert_exporter": "python",
   "pygments_lexer": "ipython3",
   "version": "3.9.12"
  },
  "orig_nbformat": 4,
  "vscode": {
   "interpreter": {
    "hash": "df5f555708faac095fd61a93badfd9c2b6417959927c12eebb577d7e9a5f2ecf"
   }
  }
 },
 "nbformat": 4,
 "nbformat_minor": 2
}
