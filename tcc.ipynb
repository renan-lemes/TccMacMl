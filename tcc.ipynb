{
 "cells": [
  {
   "attachments": {},
   "cell_type": "markdown",
   "metadata": {},
   "source": [
    "### blibliotecas iniciais "
   ]
  },
  {
   "cell_type": "code",
   "execution_count": 2,
   "metadata": {},
   "outputs": [],
   "source": [
    "import pandas as pd\n",
    "import numpy as np\n",
    "import matplotlib.pyplot as plt\n",
    "import warnings\n",
    "import os\n",
    "warnings.filterwarnings(\"ignore\")"
   ]
  },
  {
   "attachments": {},
   "cell_type": "markdown",
   "metadata": {},
   "source": [
    "### Blibliotecas para tratamento de imagem"
   ]
  },
  {
   "cell_type": "code",
   "execution_count": 3,
   "metadata": {},
   "outputs": [],
   "source": [
    "from skimage.color import rgb2gray\n",
    "from skimage.filters import try_all_threshold, threshold_otsu, threshold_local, gaussian\n",
    "from skimage.transform import rotate, rescale\n",
    "from skimage import morphology\n",
    "import cv2"
   ]
  },
  {
   "cell_type": "code",
   "execution_count": 4,
   "metadata": {},
   "outputs": [],
   "source": [
    "# G:\\Meu Drive\\Renan-Lemes-TCC\\dataset\\Potato\\train\\Potato Early blight\n",
    "# G:\\Meu Drive\\Renan-Lemes-TCC\\dataset\\Potato\\train\\Potato Healthy\n",
    "# G:\\Meu Drive\\Renan-Lemes-TCC\\dataset\\Potato\\train\\Potato Late blight"
   ]
  },
  {
   "cell_type": "code",
   "execution_count": 5,
   "metadata": {},
   "outputs": [],
   "source": [
    "trainEarly = os.listdir('G:\\\\Meu Drive\\Renan-Lemes-TCC\\\\dataset\\\\Potato\\\\train\\\\Potato Early blight')\n",
    "trainHeal = os.listdir('G:\\\\Meu Drive\\\\Renan-Lemes-TCC\\\\dataset\\\\Potato\\\\train\\\\Potato Healthy')\n",
    "trainLate = os.listdir('G:\\\\Meu Drive\\\\Renan-Lemes-TCC\\\\dataset\\\\Potato\\\\train\\\\Potato Late blight')\n"
   ]
  },
  {
   "cell_type": "code",
   "execution_count": 6,
   "metadata": {},
   "outputs": [
    {
     "name": "stdout",
     "output_type": "stream",
     "text": [
      "-----train-----\n",
      "2432\n",
      "3532\n",
      "3521\n"
     ]
    }
   ],
   "source": [
    "print('-----train-----')\n",
    "print(len(trainHeal))\n",
    "print(len(trainEarly))\n",
    "print(len(trainLate))"
   ]
  },
  {
   "attachments": {},
   "cell_type": "markdown",
   "metadata": {},
   "source": [
    "### Ai decidi Pegar apenas  as 2432 das saudaveis, e metade das Late e metade Early ou seja 1216 cada."
   ]
  },
  {
   "cell_type": "code",
   "execution_count": 7,
   "metadata": {},
   "outputs": [
    {
     "name": "stdout",
     "output_type": "stream",
     "text": [
      "1216\n"
     ]
    }
   ],
   "source": [
    "print(round(len(trainHeal)/2 ))\n",
    "amostLen = round(len(trainHeal)/2)"
   ]
  },
  {
   "cell_type": "code",
   "execution_count": 9,
   "metadata": {},
   "outputs": [],
   "source": [
    "path1 = 'G:\\\\Meu Drive\\Renan-Lemes-TCC\\\\dataset\\\\Potato\\\\train\\\\Potato Early blight' ## não saudavel então pego só 1216\n",
    "path2 = 'G:\\\\Meu Drive\\\\Renan-Lemes-TCC\\\\dataset\\\\Potato\\\\train\\\\Potato Healthy' ## saudavel pego todas\n",
    "path3 = 'G:\\\\Meu Drive\\\\Renan-Lemes-TCC\\\\dataset\\\\Potato\\\\train\\\\Potato Late blight' ## não saudavel então pego só 1216"
   ]
  },
  {
   "attachments": {},
   "cell_type": "markdown",
   "metadata": {},
   "source": [
    "### lista onde esta cada cada imagem no google drive "
   ]
  },
  {
   "cell_type": "code",
   "execution_count": null,
   "metadata": {},
   "outputs": [],
   "source": [
    "# celulas que não precisa rodar\n",
    "cont = 0\n",
    "for i in os.listdir(path1):\n",
    "    cont += 1\n",
    "    print(path1 + \"\\\\\" + i)\n",
    "    if cont == amostLen:\n",
    "        break"
   ]
  },
  {
   "cell_type": "code",
   "execution_count": null,
   "metadata": {},
   "outputs": [],
   "source": [
    "# celulas que não precisa rodar\n",
    "\n",
    "cont = 0\n",
    "for i in os.listdir(path3):\n",
    "    cont += 1\n",
    "    print(path3 + \"\\\\\" + i)\n",
    "    if cont == amostLen:\n",
    "        break"
   ]
  },
  {
   "cell_type": "code",
   "execution_count": 10,
   "metadata": {},
   "outputs": [],
   "source": [
    "# Função para mostrar na tela a imagem\n",
    "def ShowImg(image, title='image', cmap_type='gray'):\n",
    "    plt.imshow(image, cmap=cmap_type)\n",
    "    plt.title(title)\n",
    "    plt.axis('off')\n",
    "    plt.show()"
   ]
  },
  {
   "attachments": {},
   "cell_type": "markdown",
   "metadata": {},
   "source": [
    "### Testes para vê se conseguia pegar uma imagem qualquer"
   ]
  },
  {
   "cell_type": "code",
   "execution_count": 16,
   "metadata": {},
   "outputs": [],
   "source": [
    "img = plt.imread('G:\\\\Meu Drive\\\\Renan-Lemes-TCC\\\\dataset\\\\Potato\\\\train\\\\Potato Late blight\\\\PotatoLateBlight(3451).JPG')\n",
    "#print(img)"
   ]
  },
  {
   "cell_type": "code",
   "execution_count": 19,
   "metadata": {},
   "outputs": [
    {
     "name": "stdout",
     "output_type": "stream",
     "text": [
      "(256, 256, 3)\n"
     ]
    }
   ],
   "source": [
    "print(img.shape)"
   ]
  },
  {
   "cell_type": "code",
   "execution_count": 20,
   "metadata": {},
   "outputs": [],
   "source": [
    "letimg = (img, 'PotatoLateBlight(3451).JPG','G:\\\\Meu Drive\\\\Renan-Lemes-TCC\\\\dataset\\\\Potato\\\\train\\\\Potato Late blight\\\\PotatoLateBlight(3451).JPG') "
   ]
  },
  {
   "cell_type": "code",
   "execution_count": 30,
   "metadata": {},
   "outputs": [
    {
     "data": {
      "text/plain": [
       "tuple"
      ]
     },
     "execution_count": 30,
     "metadata": {},
     "output_type": "execute_result"
    }
   ],
   "source": [
    "type(letimg)"
   ]
  },
  {
   "cell_type": "code",
   "execution_count": 32,
   "metadata": {},
   "outputs": [
    {
     "data": {
      "image/png": "[encoded data removed]",
      "text/plain": [
       "<Figure size 432x288 with 1 Axes>"
      ]
     },
     "metadata": {
      "needs_background": "light"
     },
     "output_type": "display_data"
    }
   ],
   "source": [
    "ShowImg(letimg[0])"
   ]
  },
  {
   "cell_type": "code",
   "execution_count": null,
   "metadata": {},
   "outputs": [],
   "source": [
    "img.shape[0] == 256"
   ]
  },
  {
   "cell_type": "code",
   "execution_count": null,
   "metadata": {},
   "outputs": [],
   "source": [
    "img.shape[1] == 256"
   ]
  },
  {
   "attachments": {},
   "cell_type": "markdown",
   "metadata": {},
   "source": [
    "### analisei as imagens e era melhor pegar apenas com shape de 256 por 256 pix"
   ]
  },
  {
   "cell_type": "code",
   "execution_count": 11,
   "metadata": {},
   "outputs": [],
   "source": [
    "path1 = 'G:\\\\Meu Drive\\Renan-Lemes-TCC\\\\dataset\\\\Potato\\\\train\\\\Potato Early blight' ## não saudavel então pego só 1216\n",
    "path2 = 'G:\\\\Meu Drive\\\\Renan-Lemes-TCC\\\\dataset\\\\Potato\\\\train\\\\Potato Healthy' ## saudavel pego todas\n",
    "path3 = 'G:\\\\Meu Drive\\\\Renan-Lemes-TCC\\\\dataset\\\\Potato\\\\train\\\\Potato Late blight' ## não saudavel então pego só 1216\n"
   ]
  },
  {
   "cell_type": "code",
   "execution_count": 12,
   "metadata": {},
   "outputs": [],
   "source": [
    "early_potato = list()\n",
    "heal_potato = list()\n",
    "late_potato = list()"
   ]
  },
  {
   "cell_type": "code",
   "execution_count": 13,
   "metadata": {},
   "outputs": [
    {
     "data": {
      "text/plain": [
       "[]"
      ]
     },
     "execution_count": 13,
     "metadata": {},
     "output_type": "execute_result"
    }
   ],
   "source": [
    "heal_potato"
   ]
  },
  {
   "cell_type": "code",
   "execution_count": 14,
   "metadata": {},
   "outputs": [
    {
     "data": {
      "text/plain": [
       "2432"
      ]
     },
     "execution_count": 14,
     "metadata": {},
     "output_type": "execute_result"
    }
   ],
   "source": [
    "amostLen\n",
    "amostLen2 = amostLen*2"
   ]
  },
  {
   "cell_type": "code",
   "execution_count": 15,
   "metadata": {},
   "outputs": [
    {
     "name": "stdout",
     "output_type": "stream",
     "text": [
      "quantidade de amostrar para pegar nas não saudaveis:  1216\n",
      "quantidade de amostrar para pegar nas saudaveis:  2432\n"
     ]
    }
   ],
   "source": [
    "print(\"quantidade de amostrar para pegar nas não saudaveis: \", amostLen)\n",
    "print(\"quantidade de amostrar para pegar nas saudaveis: \", amostLen2)"
   ]
  },
  {
   "attachments": {},
   "cell_type": "markdown",
   "metadata": {},
   "source": [
    "### Pegando quantidade de folhas saudaveis e não saudaveis que com tamanho de 256x256 pixels "
   ]
  },
  {
   "cell_type": "code",
   "execution_count": null,
   "metadata": {},
   "outputs": [],
   "source": [
    "img = tuple()\n",
    "try:\n",
    "    for i in os.listdir(path1):\n",
    "        img = (cv2.imread(path1 + \"\\\\\" + i), path1 + \"\\\\\" + i, i)\n",
    "        if (img.shape[0] == 256) and (img.shape[1] == 256): \n",
    "            early_potato.append(img)\n",
    "        if (len(early_potato) >= amostLen):\n",
    "            break\n",
    "except Exception as e:\n",
    "    print(f'Erro {e}')\n"
   ]
  },
  {
   "cell_type": "code",
   "execution_count": null,
   "metadata": {},
   "outputs": [],
   "source": [
    "# saudaveis pego todas com pixel de 256 por 256\n",
    "img = tuple()\n",
    "try:\n",
    "    for i in os.listdir(path2):\n",
    "        img = (cv2.imread(path2 + \"\\\\\" + i), path2 + \"\\\\\" + i, i) \n",
    "        if (img.shape[0] == 256) and (img.shape[1] == 256):\n",
    "            heal_potato.append(img)\n",
    "except Exception as e:\n",
    "    print(f\"Erro {e}\")"
   ]
  },
  {
   "cell_type": "code",
   "execution_count": null,
   "metadata": {},
   "outputs": [],
   "source": [
    "# aqui pego apenas maior igual a quantidade de 1216 folhas\n",
    "img = tuple()\n",
    "try:\n",
    "    for i in os.listdir(path3):\n",
    "        img = (cv2.imread(path3 + \"\\\\\" + i), path3 + \"\\\\\" + i, i) \n",
    "        if (img.shape[0] == 256) and (img.shape[1] == 256):\n",
    "            late_potato.append(img)\n",
    "        if len(late_potato) >= amostLen:\n",
    "            break\n",
    "except Exception as e:\n",
    "    print(f\"Erro {e}\")"
   ]
  },
  {
   "attachments": {},
   "cell_type": "markdown",
   "metadata": {},
   "source": [
    "### foram pegas 2432 folhas não saudaveis e 2241 folhas saudaveis todas com o mesmo tamanho "
   ]
  },
  {
   "cell_type": "code",
   "execution_count": null,
   "metadata": {},
   "outputs": [],
   "source": [
    "heal_potato[2240].shape"
   ]
  },
  {
   "cell_type": "code",
   "execution_count": null,
   "metadata": {},
   "outputs": [],
   "source": [
    "ShowImg(heal_potato[22])"
   ]
  },
  {
   "cell_type": "code",
   "execution_count": null,
   "metadata": {},
   "outputs": [],
   "source": [
    "print(\"quantidade de folhas meias saudaveis: \", len(early_potato))\n",
    "print(\"quantidade de folhas saudaveis: \", len(heal_potato))\n",
    "print(\"quantidade de folhas meias saudaveis \", len(late_potato))\n"
   ]
  },
  {
   "cell_type": "code",
   "execution_count": null,
   "metadata": {},
   "outputs": [],
   "source": [
    "print(len(early_potato)+len(late_potato) - len(heal_potato))"
   ]
  },
  {
   "cell_type": "code",
   "execution_count": null,
   "metadata": {},
   "outputs": [],
   "source": [
    "ShowImg(heal_potato[100], 'Saudavel')\n",
    "ShowImg(early_potato[100], 'Estagio inicial')\n",
    "ShowImg(late_potato[100], 'Estado final')\n"
   ]
  },
  {
   "cell_type": "code",
   "execution_count": null,
   "metadata": {},
   "outputs": [],
   "source": [
    "shape_early = []"
   ]
  },
  {
   "cell_type": "code",
   "execution_count": null,
   "metadata": {},
   "outputs": [],
   "source": [
    "for i in range(len(early_potato)):\n",
    "    shape_early.append(early_potato[i].shape)"
   ]
  },
  {
   "cell_type": "code",
   "execution_count": null,
   "metadata": {},
   "outputs": [],
   "source": [
    "\n",
    "ShowImg(early_potato[1530])"
   ]
  },
  {
   "cell_type": "code",
   "execution_count": null,
   "metadata": {},
   "outputs": [],
   "source": [
    "# shape[0] e shape[1] iguais a 256"
   ]
  },
  {
   "cell_type": "code",
   "execution_count": null,
   "metadata": {},
   "outputs": [],
   "source": [
    "\n",
    "cont = 0\n",
    "for i in os.listdir(path2):\n",
    "    cont += 1\n",
    "    img = plt.imread(path2 + \"\\\\\" + i)\n",
    "    heal_potato.append(img)"
   ]
  },
  {
   "cell_type": "code",
   "execution_count": null,
   "metadata": {},
   "outputs": [],
   "source": [
    "\n",
    "cont = 0\n",
    "for i in os.listdir(path3):\n",
    "    cont +=1\n",
    "    img = plt.imread(path3 + \"\\\\\" + i)\n",
    "    late_potato.append(img)\n",
    "    if cont == amostLen:\n",
    "        break"
   ]
  },
  {
   "attachments": {},
   "cell_type": "markdown",
   "metadata": {},
   "source": [
    "### Vai ter dois path um para imagem saudavel e um para imagem não saudavel"
   ]
  },
  {
   "cell_type": "code",
   "execution_count": null,
   "metadata": {},
   "outputs": [],
   "source": [
    "path = ''"
   ]
  },
  {
   "cell_type": "code",
   "execution_count": null,
   "metadata": {},
   "outputs": [],
   "source": [
    "path = ''"
   ]
  },
  {
   "attachments": {},
   "cell_type": "markdown",
   "metadata": {},
   "source": [
    "### class para poder fazer o pre-processamento da imagem"
   ]
  },
  {
   "cell_type": "code",
   "execution_count": 33,
   "metadata": {},
   "outputs": [],
   "source": [
    "class Processing():\n",
    "    def __init__(self, img, filename, path):\n",
    "        self.img = img\n",
    "        self.filename = filename\n",
    "        self.path = path\n",
    "\n",
    "    def corvertHSV(self):\n",
    "        self.hsv = cv2.cvtColor(self.img, cv2.COLOR_BGR2HSV)\n",
    "        self.h = self.hsv[:, :, 0]\n",
    "        self.s = self.hsv[:, :, 1]        \n",
    "        self.v = self.hsv[:, :, 2]        \n",
    "        #cv2.imwrite(path + \"HSV_\" + self.filename, self.hsv)\n",
    "\n",
    "\n",
    "    # vou testar os três canais antes de decidir qual melhor ...\n",
    "    # por enquanto vou deixar o canal s\n",
    "    def equalize(self):\n",
    "        self.s_equalizado = cv2.equalizeHist(self.s)\n",
    "        self.hls[:,:,1] = self.s_equalizado\n",
    "        cv2.imwrite(path+\"s_eq\" + self.filename, self.hsv)\n",
    "\n",
    "    def convertRGB(self):\n",
    "        self.img_out = cv2.cvtColor(self.hsv, cv2.COLOR_HLS2BGR)\n",
    "\n",
    "    def saveImg(self):\n",
    "        cv2.imwrite(path + \"preProcess\" + self.filename, self.img_out)\n",
    "\n",
    "    "
   ]
  },
  {
   "cell_type": "code",
   "execution_count": null,
   "metadata": {},
   "outputs": [],
   "source": []
  },
  {
   "cell_type": "code",
   "execution_count": null,
   "metadata": {},
   "outputs": [],
   "source": []
  },
  {
   "cell_type": "code",
   "execution_count": null,
   "metadata": {},
   "outputs": [],
   "source": []
  },
  {
   "attachments": {},
   "cell_type": "markdown",
   "metadata": {},
   "source": [
    "# Notei que já separou as imagens e quantificou. Porem, ainda para tratar as imagens deixa tudo na mesma pasta inicialmente, somente separando as classes, inclusive porque voce não finalizou os experimentos com a extração de características.\n",
    "\n",
    "# Agora as etapas de execução:\n",
    "- Inserir aqui experimentos separando de cada canal de cor. Exemplo exibir a imagem do H, do S e do L e depois imagem do H, do S e do V. Não precisa ser de cada pasta de treino e validação, como voce vai juntar tudo inicialmente, faz 1 experimento de cada classe so. \n",
    "\n",
    "- Verificar o canal que mais tem contorno, sem tantas misturas de cores. \n",
    "- Realizar a equalização do histograma nesse canal separado\n",
    "- juntar a imagem novamente para formar nova imagem e retornar para RGB. \n",
    "\n",
    "- Após isso, voce irá iniciar a extração de características. \n",
    "- indico usar inicialmente como extrator de características o SIFT. \n",
    "https://www.dominodatalab.com/blog/feature-extraction-and-image-classification-using-deep-neural-networks \n",
    "\n",
    "Somente após isso, siga para os experimentos com aprendizagem de máquina. \n",
    "Finalize esses passos acima e me avise para iniciarmos os treinamentos."
   ]
  },
  {
   "cell_type": "markdown",
   "metadata": {},
   "source": []
  }
 ],
 "metadata": {
  "kernelspec": {
   "display_name": "Python 3.9.12 ('base')",
   "language": "python",
   "name": "python3"
  },
  "language_info": {
   "codemirror_mode": {
    "name": "ipython",
    "version": 3
   },
   "file_extension": ".py",
   "mimetype": "text/x-python",
   "name": "python",
   "nbconvert_exporter": "python",
   "pygments_lexer": "ipython3",
   "version": "3.9.12"
  },
  "orig_nbformat": 4,
  "vscode": {
   "interpreter": {
    "hash": "df5f555708faac095fd61a93badfd9c2b6417959927c12eebb577d7e9a5f2ecf"
   }
  }
 },
 "nbformat": 4,
 "nbformat_minor": 2
}
